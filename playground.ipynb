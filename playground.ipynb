{
    "cells": [
        {
            "cell_type": "code",
            "execution_count": 5,
            "source": [
                "# import streamlit as st\n",
                "import numpy as np\n",
                "import pandas as pd"
            ],
            "outputs": [],
            "metadata": {}
        },
        {
            "cell_type": "code",
            "execution_count": 3,
            "source": [
                "# st.title('Streamlit超入門')"
            ],
            "outputs": [
                {
                    "output_type": "error",
                    "ename": "NameError",
                    "evalue": "name 'st' is not defined",
                    "traceback": [
                        "\u001b[0;31m---------------------------------------------------------------------------\u001b[0m",
                        "\u001b[0;31mNameError\u001b[0m                                 Traceback (most recent call last)",
                        "\u001b[0;32m<ipython-input-3-18400fbe79b6>\u001b[0m in \u001b[0;36m<module>\u001b[0;34m\u001b[0m\n\u001b[0;32m----> 1\u001b[0;31m \u001b[0mst\u001b[0m\u001b[0;34m.\u001b[0m\u001b[0mtitle\u001b[0m\u001b[0;34m(\u001b[0m\u001b[0;34m'Streamlit超入門'\u001b[0m\u001b[0;34m)\u001b[0m\u001b[0;34m\u001b[0m\u001b[0;34m\u001b[0m\u001b[0m\n\u001b[0m",
                        "\u001b[0;31mNameError\u001b[0m: name 'st' is not defined"
                    ]
                }
            ],
            "metadata": {}
        },
        {
            "cell_type": "code",
            "execution_count": 6,
            "source": [
                "df = pd.DataFrame({\n",
                "  '1列目': [1, 2, 3, 4],\n",
                "  '2列目':[10, 20, 30, 40]\n",
                "})"
            ],
            "outputs": [],
            "metadata": {}
        },
        {
            "cell_type": "code",
            "execution_count": 9,
            "source": [
                "np.random.rand(20, 3)"
            ],
            "outputs": [
                {
                    "output_type": "execute_result",
                    "data": {
                        "text/plain": [
                            "array([[0.61713568, 0.94431276, 0.08007261],\n",
                            "       [0.23324987, 0.37331757, 0.81561167],\n",
                            "       [0.80864507, 0.54711477, 0.64634937],\n",
                            "       [0.50042177, 0.40597377, 0.92529345],\n",
                            "       [0.05695247, 0.10904719, 0.04288902],\n",
                            "       [0.58743302, 0.47347803, 0.16631616],\n",
                            "       [0.86521142, 0.76980329, 0.39414704],\n",
                            "       [0.59377458, 0.56906554, 0.64260028],\n",
                            "       [0.00719768, 0.43577667, 0.06876056],\n",
                            "       [0.20420145, 0.53665151, 0.06848001],\n",
                            "       [0.29439975, 0.76669718, 0.36187259],\n",
                            "       [0.10729637, 0.66900087, 0.3259741 ],\n",
                            "       [0.88376728, 0.80085072, 0.45448661],\n",
                            "       [0.5756255 , 0.38046395, 0.65979144],\n",
                            "       [0.03862091, 0.66180619, 0.23936053],\n",
                            "       [0.90720021, 0.31449858, 0.50867507],\n",
                            "       [0.02955968, 0.14615413, 0.56178156],\n",
                            "       [0.01867988, 0.91383667, 0.39690482],\n",
                            "       [0.96019493, 0.50609021, 0.37479783],\n",
                            "       [0.24814134, 0.344704  , 0.0184762 ]])"
                        ]
                    },
                    "metadata": {},
                    "execution_count": 9
                }
            ],
            "metadata": {}
        },
        {
            "cell_type": "code",
            "execution_count": null,
            "source": [],
            "outputs": [],
            "metadata": {}
        }
    ],
    "metadata": {
        "orig_nbformat": 4,
        "language_info": {
            "name": "python",
            "version": "3.8.5",
            "mimetype": "text/x-python",
            "codemirror_mode": {
                "name": "ipython",
                "version": 3
            },
            "pygments_lexer": "ipython3",
            "nbconvert_exporter": "python",
            "file_extension": ".py"
        },
        "kernelspec": {
            "name": "python3",
            "display_name": "Python 3.8.5 64-bit ('base': conda)"
        },
        "interpreter": {
            "hash": "f2cfd88f9dde34e2af605fd8f5b3549b16e861e5237a74ce0714116c7b344ab7"
        }
    },
    "nbformat": 4,
    "nbformat_minor": 2
}